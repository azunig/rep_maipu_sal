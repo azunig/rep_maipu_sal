{
 "cells": [
  {
   "cell_type": "code",
   "execution_count": 1,
   "id": "edef40c5",
   "metadata": {},
   "outputs": [
    {
     "name": "stderr",
     "output_type": "stream",
     "text": [
      "Pandas backend NOT loaded\n",
      "Numpy backend NOT loaded\n",
      "Pyspark backend NOT loaded\n",
      "Python backend loaded\n"
     ]
    },
    {
     "name": "stdout",
     "output_type": "stream",
     "text": [
      "zsh:1: no matches found: pandas-profiling[notebook]\n",
      "Enabling notebook extension jupyter-js-widgets/extension...\n",
      "      - Validating: \u001b[32mOK\u001b[0m\n"
     ]
    }
   ],
   "source": [
    "import os\n",
    "import sys\n",
    "#conda activate arg_map\n",
    "import numpy as np \n",
    "import pandas as pd\n",
    "from pandas_profiling import ProfileReport\n",
    "\n",
    "\n",
    "!{sys.executable} -m pip install -U pandas-profiling[notebook]\n",
    "!jupyter nbextension enable --py widgetsnbextension"
   ]
  },
  {
   "cell_type": "code",
   "execution_count": 1,
   "id": "ebf2e591",
   "metadata": {},
   "outputs": [
    {
     "ename": "NameError",
     "evalue": "name 'os' is not defined",
     "output_type": "error",
     "traceback": [
      "\u001b[0;31m---------------------------------------------------------------------------\u001b[0m",
      "\u001b[0;31mNameError\u001b[0m                                 Traceback (most recent call last)",
      "Cell \u001b[0;32mIn[1], line 8\u001b[0m\n\u001b[1;32m      5\u001b[0m res \u001b[39m=\u001b[39m []\n\u001b[1;32m      7\u001b[0m \u001b[39m# Iterate directory\u001b[39;00m\n\u001b[0;32m----> 8\u001b[0m \u001b[39mfor\u001b[39;00m path \u001b[39min\u001b[39;00m os\u001b[39m.\u001b[39mlistdir(dir_path):\n\u001b[1;32m      9\u001b[0m     \u001b[39m# check if current path is a file\u001b[39;00m\n\u001b[1;32m     10\u001b[0m     \u001b[39mif\u001b[39;00m os\u001b[39m.\u001b[39mpath\u001b[39m.\u001b[39misfile(os\u001b[39m.\u001b[39mpath\u001b[39m.\u001b[39mjoin(dir_path, path)):\n\u001b[1;32m     11\u001b[0m         \u001b[39mif\u001b[39;00m path \u001b[39m!=\u001b[39m \u001b[39mNone\u001b[39;00m \u001b[39mand\u001b[39;00m \u001b[39m'\u001b[39m\u001b[39mcsv\u001b[39m\u001b[39m'\u001b[39m \u001b[39min\u001b[39;00m path:\n",
      "\u001b[0;31mNameError\u001b[0m: name 'os' is not defined"
     ]
    }
   ],
   "source": [
    "# folder path\n",
    "dir_path = r'/Users/aronvz/Library/CloudStorage/OneDrive-SharedLibraries-ZSV/Argon-Document - Documents/Reports/Maipú/raw/'\n",
    "\n",
    "# list to store files\n",
    "res = []\n",
    "\n",
    "# Iterate directory\n",
    "for path in os.listdir(dir_path):\n",
    "    # check if current path is a file\n",
    "    if os.path.isfile(os.path.join(dir_path, path)):\n",
    "        if path != None and 'csv' in path:\n",
    "            res.append(path)\n",
    "#print(res)\n",
    "filenames = res\n",
    "\n"
   ]
  },
  {
   "cell_type": "code",
   "execution_count": 14,
   "id": "ce6f3671",
   "metadata": {},
   "outputs": [],
   "source": [
    "#filenames"
   ]
  },
  {
   "cell_type": "code",
   "execution_count": 9,
   "id": "421c1003",
   "metadata": {},
   "outputs": [],
   "source": [
    "#filenames = ['file1.txt', 'file2.txt', ...]\n",
    "with open(dir_path+'file.csv', 'w') as outfile:\n",
    "    header = True\n",
    "    hdet = \"Cargo con jornada\"\n",
    "    for fname in filenames:\n",
    "        #print(dir_path+fname)\n",
    "        with open(dir_path+fname, encoding='ISO-8859-1') as infile:\n",
    "            for line in infile:\n",
    "                if header:\n",
    "                    if line != None and hdet in line:\n",
    "                        header = False\n",
    "                        outfile.write(line)\n",
    "                else:\n",
    "                    if line != None and hdet not in line:\n",
    "                        outfile.write(line)\n",
    "                "
   ]
  },
  {
   "cell_type": "code",
   "execution_count": 11,
   "id": "edb63fcb",
   "metadata": {},
   "outputs": [],
   "source": [
    "df = pd.read_csv(dir_path+'file.csv',  sep=';')"
   ]
  },
  {
   "cell_type": "code",
   "execution_count": 12,
   "id": "5dacc748",
   "metadata": {},
   "outputs": [],
   "source": [
    "profile = ProfileReport(df, title=\"Pandas Profiling Report\")"
   ]
  },
  {
   "cell_type": "code",
   "execution_count": 13,
   "id": "10f5c3d6",
   "metadata": {},
   "outputs": [
    {
     "name": "stderr",
     "output_type": "stream",
     "text": [
      "Summarize dataset:   0%|          | 0/5 [00:00<?, ?it/s]Note: NumExpr detected 10 cores but \"NUMEXPR_MAX_THREADS\" not set, so enforcing safe limit of 8.\n",
      "NumExpr defaulting to 8 threads.\n",
      "Summarize dataset: 100%|██████████| 37/37 [00:07<00:00,  5.09it/s, Completed]                                                                               \n",
      "Generate report structure: 100%|██████████| 1/1 [00:02<00:00,  2.57s/it]\n",
      "Render widgets:   0%|          | 0/1 [00:00<?, ?it/s]"
     ]
    },
    {
     "name": "stderr",
     "output_type": "stream",
     "text": [
      "                                                             \r"
     ]
    },
    {
     "data": {
      "application/vnd.jupyter.widget-view+json": {
       "model_id": "66c402c1015b4708a535868ea2f7ff9a",
       "version_major": 2,
       "version_minor": 0
      },
      "text/plain": [
       "VBox(children=(Tab(children=(Tab(children=(GridBox(children=(VBox(children=(GridspecLayout(children=(HTML(valu…"
      ]
     },
     "metadata": {},
     "output_type": "display_data"
    }
   ],
   "source": [
    "profile.to_widgets()"
   ]
  },
  {
   "cell_type": "code",
   "execution_count": 19,
   "id": "f3aebd2c",
   "metadata": {},
   "outputs": [],
   "source": [
    "dforiginal = df\n"
   ]
  },
  {
   "cell_type": "code",
   "execution_count": 38,
   "id": "3ef4939a",
   "metadata": {},
   "outputs": [
    {
     "ename": "AttributeError",
     "evalue": "'DataFrame' object has no attribute 'to_numeric'",
     "output_type": "error",
     "traceback": [
      "\u001b[0;31m---------------------------------------------------------------------------\u001b[0m",
      "\u001b[0;31mAttributeError\u001b[0m                            Traceback (most recent call last)",
      "\u001b[0;32m/var/folders/vr/7dyfw0_12zx7_8c2c1d0zg100000gn/T/ipykernel_50960/267712490.py\u001b[0m in \u001b[0;36m<module>\u001b[0;34m\u001b[0m\n\u001b[1;32m      1\u001b[0m \u001b[0;31m#df.iloc[:, [10, 11, 12, 13, 14, 15]]\u001b[0m\u001b[0;34m\u001b[0m\u001b[0;34m\u001b[0m\u001b[0m\n\u001b[0;32m----> 2\u001b[0;31m \u001b[0mdf2\u001b[0m \u001b[0;34m=\u001b[0m \u001b[0mdf\u001b[0m\u001b[0;34m.\u001b[0m\u001b[0miloc\u001b[0m\u001b[0;34m[\u001b[0m\u001b[0;34m:\u001b[0m\u001b[0;34m,\u001b[0m \u001b[0;34m[\u001b[0m\u001b[0;36m10\u001b[0m\u001b[0;34m]\u001b[0m\u001b[0;34m]\u001b[0m\u001b[0;34m.\u001b[0m\u001b[0mto_numeric\u001b[0m\u001b[0;34m(\u001b[0m\u001b[0;34m)\u001b[0m\u001b[0;34m\u001b[0m\u001b[0;34m\u001b[0m\u001b[0m\n\u001b[0m",
      "\u001b[0;32m~/opt/anaconda3/lib/python3.9/site-packages/pandas/core/generic.py\u001b[0m in \u001b[0;36m__getattr__\u001b[0;34m(self, name)\u001b[0m\n\u001b[1;32m   5139\u001b[0m             \u001b[0;32mif\u001b[0m \u001b[0mself\u001b[0m\u001b[0;34m.\u001b[0m\u001b[0m_info_axis\u001b[0m\u001b[0;34m.\u001b[0m\u001b[0m_can_hold_identifiers_and_holds_name\u001b[0m\u001b[0;34m(\u001b[0m\u001b[0mname\u001b[0m\u001b[0;34m)\u001b[0m\u001b[0;34m:\u001b[0m\u001b[0;34m\u001b[0m\u001b[0;34m\u001b[0m\u001b[0m\n\u001b[1;32m   5140\u001b[0m                 \u001b[0;32mreturn\u001b[0m \u001b[0mself\u001b[0m\u001b[0;34m[\u001b[0m\u001b[0mname\u001b[0m\u001b[0;34m]\u001b[0m\u001b[0;34m\u001b[0m\u001b[0;34m\u001b[0m\u001b[0m\n\u001b[0;32m-> 5141\u001b[0;31m             \u001b[0;32mreturn\u001b[0m \u001b[0mobject\u001b[0m\u001b[0;34m.\u001b[0m\u001b[0m__getattribute__\u001b[0m\u001b[0;34m(\u001b[0m\u001b[0mself\u001b[0m\u001b[0;34m,\u001b[0m \u001b[0mname\u001b[0m\u001b[0;34m)\u001b[0m\u001b[0;34m\u001b[0m\u001b[0;34m\u001b[0m\u001b[0m\n\u001b[0m\u001b[1;32m   5142\u001b[0m \u001b[0;34m\u001b[0m\u001b[0m\n\u001b[1;32m   5143\u001b[0m     \u001b[0;32mdef\u001b[0m \u001b[0m__setattr__\u001b[0m\u001b[0;34m(\u001b[0m\u001b[0mself\u001b[0m\u001b[0;34m,\u001b[0m \u001b[0mname\u001b[0m\u001b[0;34m:\u001b[0m \u001b[0mstr\u001b[0m\u001b[0;34m,\u001b[0m \u001b[0mvalue\u001b[0m\u001b[0;34m)\u001b[0m \u001b[0;34m->\u001b[0m \u001b[0;32mNone\u001b[0m\u001b[0;34m:\u001b[0m\u001b[0;34m\u001b[0m\u001b[0;34m\u001b[0m\u001b[0m\n",
      "\u001b[0;31mAttributeError\u001b[0m: 'DataFrame' object has no attribute 'to_numeric'"
     ]
    }
   ],
   "source": [
    "#df.iloc[:, [10, 11, 12, 13, 14, 15]]\n",
    "df2 = df.iloc[:, [10]].to_numeric()"
   ]
  },
  {
   "cell_type": "code",
   "execution_count": null,
   "id": "3dbc3c5d",
   "metadata": {},
   "outputs": [],
   "source": [
    "def clean_dot (row):\n",
    "   if row['eri_hispanic'] == 1 :\n",
    "      return 'Hispanic'\n",
    "   if row['eri_afr_amer'] + row['eri_asian'] + row['eri_hawaiian'] + row['eri_nat_amer'] + row['eri_white'] > 1 :\n",
    "      return 'Two Or More'\n",
    "   if row['eri_nat_amer'] == 1 :\n",
    "      return 'A/I AK Native'\n",
    "   if row['eri_asian'] == 1:\n",
    "      return 'Asian'\n",
    "   if row['eri_afr_amer']  == 1:\n",
    "      return 'Black/AA'\n",
    "   if row['eri_hawaiian'] == 1:\n",
    "      return 'Haw/Pac Isl.'\n",
    "   if row['eri_white'] == 1:\n",
    "      return 'White'\n",
    "   return 'Other'"
   ]
  }
 ],
 "metadata": {
  "kernelspec": {
   "display_name": "base",
   "language": "python",
   "name": "python3"
  },
  "language_info": {
   "codemirror_mode": {
    "name": "ipython",
    "version": 3
   },
   "file_extension": ".py",
   "mimetype": "text/x-python",
   "name": "python",
   "nbconvert_exporter": "python",
   "pygments_lexer": "ipython3",
   "version": "3.9.12"
  },
  "vscode": {
   "interpreter": {
    "hash": "30244a4170d660600655fcdd5d3626c66942eefa1717d6c23f0c3f9fe01c1125"
   }
  }
 },
 "nbformat": 4,
 "nbformat_minor": 5
}
